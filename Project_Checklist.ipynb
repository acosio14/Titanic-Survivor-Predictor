{
 "cells": [
  {
   "cell_type": "markdown",
   "id": "5dcef886",
   "metadata": {},
   "source": [
    "# Titanic Survior Model Checklist"
   ]
  },
  {
   "cell_type": "markdown",
   "id": "d20b5e4f",
   "metadata": {},
   "source": [
    "1. Data Acquisition\n",
    "- Download Titanic Dataset\n",
    "- Load dataset using Pandas\n",
    "- Inspect first few rows, check column names, types, missing values"
   ]
  },
  {
   "cell_type": "markdown",
   "id": "ded6020d",
   "metadata": {},
   "source": [
    "2. Data Cleaning\n",
    "- Handle missing values (e.g, Age, Cabin, Embarked)\n",
    "- Drop irrelevant columns (e.g., PassengerId, Name, Ticket) or encode them meaningfully\n",
    "- Convert categorical columns (Sex, Embarked) to numeric (Label Encoding or One-Hot Encoding)"
   ]
  },
  {
   "cell_type": "markdown",
   "id": "1ea5f416",
   "metadata": {},
   "source": [
    "3. Feature Engineering\n",
    "- Create new features if useful\n",
    "- Normalize or scale features if needed.\n",
    "- Split dataset into features (X) and target (y = Survived)."
   ]
  },
  {
   "cell_type": "markdown",
   "id": "8a07c182",
   "metadata": {},
   "source": [
    "4. Train/Test split\n",
    "- Split train dataset into train/validation sets (e.g., 80/20)\n",
    "- Ensure balanced target distribution if necessary"
   ]
  },
  {
   "cell_type": "markdown",
   "id": "0e7c17a0",
   "metadata": {},
   "source": [
    "5. Model Selection\n",
    "- Start simple: (Logistic Regression or Decision Tree)\n",
    "- Optionally Try: (Random Forest, Gradinet Boosting, SVM)"
   ]
  },
  {
   "cell_type": "markdown",
   "id": "4f7f4f9c",
   "metadata": {},
   "source": [
    "6. Model Training\n",
    "- Fit model on training data\n",
    "- Check for overfitting/underfitting\n",
    "- Tune hyperparameters (grid search or manual tuning)"
   ]
  },
  {
   "cell_type": "markdown",
   "id": "07684201",
   "metadata": {},
   "source": [
    "7. Model Evaluation\n",
    "- Metrics to evaluate: (Accuracy, Confusion Matrix, [Precison, Recall, F1 Score])\n",
    "- Plot ROC curve (optional)"
   ]
  },
  {
   "cell_type": "markdown",
   "id": "2ddcc656",
   "metadata": {},
   "source": [
    "8. Model Improvement\n",
    "- Feature selection: remove unimportant features\n",
    "- Feature engineering: try adding/removing engineered features.\n",
    "- Try ensembled models (Random Forest + Gradient Boosting)\n",
    "- Tune hyperparameters more rigorously."
   ]
  },
  {
   "cell_type": "markdown",
   "id": "da9f1246",
   "metadata": {},
   "source": [
    "9. Prediction on Test Set\n",
    "- Apply trained model to test dataset\n",
    "- Export prediction to CSV for submission."
   ]
  },
  {
   "cell_type": "markdown",
   "id": "847ddaba",
   "metadata": {},
   "source": [
    "10. Optional Advanced Steps\n",
    "- Implement a small neural network in PyTorch: (Input layer -> hidden layers -> output layer [1 neuron with sigmoid]), Use BCE loss, optimizer (Adam/SGD)\n",
    "- Evaluate neural network performance vs classical models.\n",
    "- Experiemnt with dropout, batch normalization for better generalization."
   ]
  },
  {
   "cell_type": "markdown",
   "id": "cc9d6465",
   "metadata": {},
   "source": [
    "11. Document & Learning\n",
    "- Write down which features improved performance.\n",
    "- Comment your code and maintain a clean project sturcture.\n",
    "- Summarize results in a Jupyter Notebook"
   ]
  },
  {
   "cell_type": "markdown",
   "id": "8caaf586",
   "metadata": {},
   "source": [
    "## Recommended structure\n",
    "\n",
    "During learning/prototyping: Use Jupyter Notebooks\n",
    "\n",
    "As project matures: Move code inot .py scripts with functions/classes.\n",
    "\n",
    "Hybrid:\n",
    "- Keep notebooks for experiments, visualization, and documentation.\n",
    "- Move core functionality into scripts (util.py, model.py, trian.py)\n",
    "- Call scripts from notebooks when needed"
   ]
  }
 ],
 "metadata": {
  "language_info": {
   "name": "python"
  }
 },
 "nbformat": 4,
 "nbformat_minor": 5
}
