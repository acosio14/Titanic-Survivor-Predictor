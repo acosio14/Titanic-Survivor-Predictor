{
 "cells": [
  {
   "cell_type": "markdown",
   "id": "64895483",
   "metadata": {},
   "source": [
    "# Titanic - Machine Learning from Disaster"
   ]
  },
  {
   "cell_type": "markdown",
   "id": "68eac9a5",
   "metadata": {},
   "source": [
    "Question: What sorts of people were more likely to survive? (using passenger data: name, age gender, socio-economic class, etc.)\n",
    "\n",
    "Goal: Predict if a passenger survived the sinking of the Titanic or not. For each in thte test set, you must predict a 0 or a 1 value for the variable.\n",
    "\n",
    "Metric: Your score is the percentage of passengers you correctly predict. This is known as accuracy."
   ]
  },
  {
   "cell_type": "markdown",
   "id": "c8f03281",
   "metadata": {},
   "source": []
  }
 ],
 "metadata": {
  "language_info": {
   "name": "python"
  }
 },
 "nbformat": 4,
 "nbformat_minor": 5
}
